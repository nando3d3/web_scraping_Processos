{
 "cells": [
  {
   "cell_type": "code",
   "execution_count": 1,
   "metadata": {},
   "outputs": [
    {
     "name": "stderr",
     "output_type": "stream",
     "text": [
      "/tmp/ipykernel_38052/1023897703.py:8: DeprecationWarning: \n",
      "Pyarrow will become a required dependency of pandas in the next major release of pandas (pandas 3.0),\n",
      "(to allow more performant data types, such as the Arrow string type, and better interoperability with other libraries)\n",
      "but was not found to be installed on your system.\n",
      "If this would cause problems for you,\n",
      "please provide us feedback at https://github.com/pandas-dev/pandas/issues/54466\n",
      "        \n",
      "  import pandas as pd\n"
     ]
    }
   ],
   "source": [
    "from selenium import webdriver\n",
    "from selenium.webdriver.chrome.service import Service\n",
    "from selenium.webdriver.common.by import By\n",
    "from selenium.webdriver import ChromeOptions\n",
    "from selenium.webdriver.support.select import Select\n",
    "from selenium.webdriver.support.wait import WebDriverWait\n",
    "from selenium.webdriver.support import expected_conditions as EC\n",
    "import pandas as pd\n",
    "import time\n",
    "from bs4 import BeautifulSoup"
   ]
  },
  {
   "cell_type": "code",
   "execution_count": 2,
   "metadata": {},
   "outputs": [],
   "source": [
    "service = Service()\n",
    "options = ChromeOptions()\n"
   ]
  },
  {
   "cell_type": "code",
   "execution_count": 3,
   "metadata": {},
   "outputs": [],
   "source": [
    "driver = webdriver.Chrome(service=service, options=options)\n",
    "\n"
   ]
  },
  {
   "cell_type": "code",
   "execution_count": 4,
   "metadata": {},
   "outputs": [],
   "source": [
    "def pesquisa_processo(cpf = None, nome = None):\n",
    "    if nome and not cpf:\n",
    "        info = nome\n",
    "        campo_pesquisa = driver.find_element(By.XPATH, '//*[@id=\"fPP:dnp:nomeParte\"]')\n",
    "    elif cpf and  not nome:\n",
    "        info = cpf\n",
    "        campo_pesquisa = driver.find_element(By.XPATH, '//*[@id=\"fPP:dpDec:documentoParte\"]')\n",
    "    \n",
    "    campo_pesquisa.click()\n",
    "    campo_pesquisa.send_keys(info)\n",
    "    \n",
    "    driver.find_element(By.XPATH, '//*[@id=\"fPP:searchProcessos\"]').click()\n",
    "    \n",
    "def lista_processos():\n",
    "    \n",
    "    num_resultado = WebDriverWait(driver, 200).until(\n",
    "            EC.visibility_of_element_located((By.XPATH, '//*[@id=\"fPP:processosTable:tb\"]/tr[1]'))\n",
    "        )\n",
    "    tabela = driver.find_element(By.XPATH, '//*[@id=\"fPP:processosGridPanel_body\"]')\n",
    "    \n",
    "    html_tabela = tabela.get_attribute('outerHTML')\n",
    "    soup = BeautifulSoup(html_tabela, 'html.parser')\n",
    "    \n",
    "    dados_tabela = []\n",
    "\n",
    "    for linha in soup.find_all('tr'):\n",
    "        dados_linha = []\n",
    "        \n",
    "        link_tag = linha.find('a', class_= 'btn btn-default btn-sm')\n",
    "        if link_tag:\n",
    "            link = link_tag.get('onclick').split(\"'\")[3]  # extrai o link do atributo onclick\n",
    "            link = 'https://pje1g.trf1.jus.br' + link\n",
    "            \n",
    "        dados_linha += [coluna.get_text(strip=True) for coluna in linha.find_all(['th', 'td'])]\n",
    "        \n",
    "        if 'Ver detalhes do processo' in dados_linha:\n",
    "            indice = dados_linha.index('Ver detalhes do processo')\n",
    "            dados_linha[indice] = link\n",
    "        \n",
    "        dados_tabela.append(dados_linha)\n",
    "    \n",
    "\n",
    "    df = pd.DataFrame(dados_tabela, columns=['link', 'processo', 'ultima_movimentacao'])\n",
    "    df = df.iloc[2:]\n",
    "    df.reset_index(drop=True, inplace=True)\n",
    "    \n",
    "    return df\n",
    "\n",
    "def save_csv(df):\n",
    "    df.to_csv('lista_processos', index = False)\n"
   ]
  },
  {
   "cell_type": "code",
   "execution_count": 5,
   "metadata": {},
   "outputs": [],
   "source": [
    "url = 'https://pje1g.trf1.jus.br/consultapublica/ConsultaPublica/listView.seam'\n",
    "driver.get(url)\n",
    "\n",
    "nome = 'Iran Velasco Nascimento'\n",
    "pesquisa_processo(nome=nome)\n",
    "df = lista_processos()\n",
    "save_csv(df)"
   ]
  },
  {
   "cell_type": "code",
   "execution_count": 6,
   "metadata": {},
   "outputs": [
    {
     "data": {
      "text/html": [
       "<div>\n",
       "<style scoped>\n",
       "    .dataframe tbody tr th:only-of-type {\n",
       "        vertical-align: middle;\n",
       "    }\n",
       "\n",
       "    .dataframe tbody tr th {\n",
       "        vertical-align: top;\n",
       "    }\n",
       "\n",
       "    .dataframe thead th {\n",
       "        text-align: right;\n",
       "    }\n",
       "</style>\n",
       "<table border=\"1\" class=\"dataframe\">\n",
       "  <thead>\n",
       "    <tr style=\"text-align: right;\">\n",
       "      <th></th>\n",
       "      <th>link</th>\n",
       "      <th>processo</th>\n",
       "      <th>ultima_movimentacao</th>\n",
       "    </tr>\n",
       "  </thead>\n",
       "  <tbody>\n",
       "    <tr>\n",
       "      <th>0</th>\n",
       "      <td>https://pje1g.trf1.jus.br/consultapublica/Cons...</td>\n",
       "      <td>CUMPRIMENTO DE SENTENÇACumSen 0039504-91.2004....</td>\n",
       "      <td>Juntada de certidão (01/08/2022 16:27:12)</td>\n",
       "    </tr>\n",
       "  </tbody>\n",
       "</table>\n",
       "</div>"
      ],
      "text/plain": [
       "                                                link  \\\n",
       "0  https://pje1g.trf1.jus.br/consultapublica/Cons...   \n",
       "\n",
       "                                            processo  \\\n",
       "0  CUMPRIMENTO DE SENTENÇACumSen 0039504-91.2004....   \n",
       "\n",
       "                         ultima_movimentacao  \n",
       "0  Juntada de certidão (01/08/2022 16:27:12)  "
      ]
     },
     "execution_count": 6,
     "metadata": {},
     "output_type": "execute_result"
    }
   ],
   "source": [
    "df"
   ]
  },
  {
   "cell_type": "code",
   "execution_count": 3,
   "metadata": {},
   "outputs": [
    {
     "name": "stdout",
     "output_type": "stream",
     "text": [
      "<p>Ola, mundo!</p>\n"
     ]
    }
   ],
   "source": [
    "import requests\n",
    "\n",
    "def obter_html(url):\n",
    "    try:\n",
    "        # Envia uma solicitação GET para a URL especificada\n",
    "        response = requests.get(url)\n",
    "        \n",
    "        # Verifica se a solicitação foi bem-sucedida (código de status 200)\n",
    "        if response.status_code == 200:\n",
    "            # Retorna o conteúdo HTML da página\n",
    "            return response.text\n",
    "        else:\n",
    "            print(f\"Erro: Status Code {response.status_code}\")\n",
    "            return None\n",
    "    except requests.RequestException as e:\n",
    "        print(f\"Erro ao solicitar a página: {e}\")\n",
    "        return None\n",
    "\n",
    "if __name__ == \"__main__\":\n",
    "    url = \"https://8de1-2804-3538-505-ca66-d89-eec1-81f-1897.ngrok-free.app\"\n",
    "    html = obter_html(url)\n",
    "    if html:\n",
    "        print(html)\n"
   ]
  },
  {
   "cell_type": "code",
   "execution_count": 4,
   "metadata": {},
   "outputs": [
    {
     "name": "stdout",
     "output_type": "stream",
     "text": [
      "<class 'bytes'>\n",
      "<class 'str'>\n",
      "Encoded bytes = b'ultima_movimentacao\": \"Juntada de certid\\xc3\\xa3o (01/08/2022 16:27:12)'\n",
      "Decoded String = ultima_movimentacao\": \"Juntada de certidão (01/08/2022 16:27:12)\n"
     ]
    }
   ],
   "source": [
    "str_original = 'ultima_movimentacao\": \"Juntada de certid\\u00e3o (01/08/2022 16:27:12)'\n",
    "\n",
    "bytes_encoded = str_original.encode(encoding='utf-8')\n",
    "#print(type(bytes_encoded))\n",
    "\n",
    "#str_decoded = bytes_encoded.decode()\n",
    "#print(type(str_decoded))\n",
    "\n",
    "print(str_original.decode())\n",
    "\n",
    "#print('Encoded bytes =', bytes_encoded)\n",
    "#print('Decoded String =', str_decoded)\n",
    "#print('str_original equals str_decoded =', str_original == str_decoded)"
   ]
  }
 ],
 "metadata": {
  "kernelspec": {
   "display_name": "env",
   "language": "python",
   "name": "python3"
  },
  "language_info": {
   "codemirror_mode": {
    "name": "ipython",
    "version": 3
   },
   "file_extension": ".py",
   "mimetype": "text/x-python",
   "name": "python",
   "nbconvert_exporter": "python",
   "pygments_lexer": "ipython3",
   "version": "3.10.12"
  }
 },
 "nbformat": 4,
 "nbformat_minor": 2
}
