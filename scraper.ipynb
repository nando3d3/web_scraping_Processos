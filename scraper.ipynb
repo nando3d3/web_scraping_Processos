{
 "cells": [
  {
   "cell_type": "code",
   "execution_count": 1,
   "metadata": {},
   "outputs": [],
   "source": [
    "from selenium import webdriver\n",
    "from selenium.webdriver.chrome.service import Service\n",
    "from selenium.webdriver.common.by import By\n",
    "from selenium.webdriver import ChromeOptions\n",
    "from selenium.webdriver.support.select import Select\n",
    "from selenium.webdriver.support.wait import WebDriverWait\n",
    "from selenium.webdriver.support import expected_conditions as EC\n",
    "\n",
    "import time"
   ]
  },
  {
   "cell_type": "code",
   "execution_count": 2,
   "metadata": {},
   "outputs": [],
   "source": [
    "service = Service()\n",
    "options = ChromeOptions()\n"
   ]
  },
  {
   "cell_type": "code",
   "execution_count": 3,
   "metadata": {},
   "outputs": [],
   "source": [
    "driver = webdriver.Chrome(service=service, options=options)\n",
    "\n"
   ]
  },
  {
   "cell_type": "code",
   "execution_count": 4,
   "metadata": {},
   "outputs": [],
   "source": [
    "def pesquisa_processo(cpf = None, nome = None):\n",
    "    if nome and not cpf:\n",
    "        info = nome\n",
    "        campo_pesquisa = driver.find_element(By.XPATH, '//*[@id=\"fPP:dnp:nomeParte\"]')\n",
    "    elif cpf and  not nome:\n",
    "        info = cpf\n",
    "        campo_pesquisa = driver.find_element(By.XPATH, '//*[@id=\"fPP:dpDec:documentoParte\"]')\n",
    "    \n",
    "    campo_pesquisa.click()\n",
    "    campo_pesquisa.send_keys(info)\n",
    "    \n",
    "    driver.find_element(By.XPATH, '//*[@id=\"fPP:searchProcessos\"]').click()\n",
    "    \n",
    "def lista_processos():\n",
    "    \n",
    "    num_resultado = WebDriverWait(driver, 200).until(\n",
    "            EC.visibility_of_element_located((By.XPATH, '//*[@id=\"fPP:processosTable:tb\"]/tr[1]'))\n",
    "        )\n",
    "    tabela = driver.find_element(By.XPATH, '//*[@id=\"fPP:processosGridPanel_body\"]')\n",
    "    linhas_tabela = tabela.find_elements(By.TAG_NAME, 'tr')\n",
    "    for linha in linhas_tabela:\n",
    "        print(linha.text)"
   ]
  },
  {
   "cell_type": "code",
   "execution_count": 6,
   "metadata": {},
   "outputs": [],
   "source": [
    "url = 'https://pje1g.trf1.jus.br/consultapublica/ConsultaPublica/listView.seam'\n",
    "driver.get(url)\n",
    "\n",
    "nome = 'Roberto Barroso'\n",
    "pesquisa_processo(nome=nome)\n",
    "lista_processos()"
   ]
  }
 ],
 "metadata": {
  "kernelspec": {
   "display_name": "env",
   "language": "python",
   "name": "python3"
  },
  "language_info": {
   "codemirror_mode": {
    "name": "ipython",
    "version": 3
   },
   "file_extension": ".py",
   "mimetype": "text/x-python",
   "name": "python",
   "nbconvert_exporter": "python",
   "pygments_lexer": "ipython3",
   "version": "3.10.12"
  }
 },
 "nbformat": 4,
 "nbformat_minor": 2
}
